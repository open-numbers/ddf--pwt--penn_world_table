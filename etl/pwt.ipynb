{
 "cells": [
  {
   "cell_type": "code",
   "execution_count": 1,
   "metadata": {
    "collapsed": true
   },
   "outputs": [],
   "source": [
    "import pandas as pd\n",
    "import numpy as np\n",
    "import os\n",
    "\n",
    "from ddf_utils.str import to_concept_id\n",
    "from ddf_utils.index import create_index_file"
   ]
  },
  {
   "cell_type": "code",
   "execution_count": 2,
   "metadata": {
    "collapsed": true
   },
   "outputs": [],
   "source": [
    "source = 'source/pwt90.xlsx'"
   ]
  },
  {
   "cell_type": "code",
   "execution_count": 3,
   "metadata": {
    "collapsed": true
   },
   "outputs": [],
   "source": [
    "concepts = pd.read_excel(source, sheetname='Legend')"
   ]
  },
  {
   "cell_type": "code",
   "execution_count": 4,
   "metadata": {
    "collapsed": true
   },
   "outputs": [],
   "source": [
    "data = pd.read_excel(source, sheetname='Data')"
   ]
  },
  {
   "cell_type": "code",
   "execution_count": 5,
   "metadata": {
    "collapsed": false
   },
   "outputs": [
    {
     "data": {
      "text/html": [
       "<div>\n",
       "<table border=\"1\" class=\"dataframe\">\n",
       "  <thead>\n",
       "    <tr style=\"text-align: right;\">\n",
       "      <th></th>\n",
       "      <th>Variable name</th>\n",
       "      <th>Variable definition</th>\n",
       "    </tr>\n",
       "  </thead>\n",
       "  <tbody>\n",
       "    <tr>\n",
       "      <th>0</th>\n",
       "      <td>Identifier variables</td>\n",
       "      <td>NaN</td>\n",
       "    </tr>\n",
       "    <tr>\n",
       "      <th>1</th>\n",
       "      <td>countrycode</td>\n",
       "      <td>3-letter ISO country code</td>\n",
       "    </tr>\n",
       "    <tr>\n",
       "      <th>2</th>\n",
       "      <td>country</td>\n",
       "      <td>Country name</td>\n",
       "    </tr>\n",
       "    <tr>\n",
       "      <th>3</th>\n",
       "      <td>currency_unit</td>\n",
       "      <td>Currency unit</td>\n",
       "    </tr>\n",
       "    <tr>\n",
       "      <th>4</th>\n",
       "      <td>year</td>\n",
       "      <td>Year</td>\n",
       "    </tr>\n",
       "  </tbody>\n",
       "</table>\n",
       "</div>"
      ],
      "text/plain": [
       "          Variable name        Variable definition\n",
       "0  Identifier variables                        NaN\n",
       "1           countrycode  3-letter ISO country code\n",
       "2               country               Country name\n",
       "3         currency_unit              Currency unit\n",
       "4                  year                       Year"
      ]
     },
     "execution_count": 5,
     "metadata": {},
     "output_type": "execute_result"
    }
   ],
   "source": [
    "concepts.head()"
   ]
  },
  {
   "cell_type": "code",
   "execution_count": null,
   "metadata": {
    "collapsed": true
   },
   "outputs": [],
   "source": []
  },
  {
   "cell_type": "code",
   "execution_count": null,
   "metadata": {
    "collapsed": true
   },
   "outputs": [],
   "source": []
  },
  {
   "cell_type": "code",
   "execution_count": 6,
   "metadata": {
    "collapsed": true
   },
   "outputs": [],
   "source": [
    "# concepts"
   ]
  },
  {
   "cell_type": "code",
   "execution_count": 13,
   "metadata": {
    "collapsed": true
   },
   "outputs": [],
   "source": [
    "cdf = concepts.set_index('Variable name').dropna()"
   ]
  },
  {
   "cell_type": "code",
   "execution_count": 14,
   "metadata": {
    "collapsed": false
   },
   "outputs": [],
   "source": [
    "cdf.index.name = 'concept'\n",
    "cdf.columns = ['name']"
   ]
  },
  {
   "cell_type": "code",
   "execution_count": 15,
   "metadata": {
    "collapsed": false
   },
   "outputs": [],
   "source": [
    "cdf = cdf.rename(index={'country':'name', 'countrycode': 'country'})\n",
    "cdf.loc['name', 'name'] = 'Name'"
   ]
  },
  {
   "cell_type": "code",
   "execution_count": 18,
   "metadata": {
    "collapsed": false
   },
   "outputs": [],
   "source": [
    "cdf['concept_type'] = 'measure'\n",
    "\n",
    "cdf.loc['country', 'concept_type'] = 'entity_domain' \n",
    "cdf.loc['name', 'concept_type'] = 'string' \n",
    "cdf.loc['year', 'concept_type'] = 'time' \n",
    "cdf.loc['currency_unit', 'concept_type'] = 'string' "
   ]
  },
  {
   "cell_type": "code",
   "execution_count": 20,
   "metadata": {
    "collapsed": false
   },
   "outputs": [],
   "source": [
    "cdf.to_csv('../ddf--concepts.csv')"
   ]
  },
  {
   "cell_type": "code",
   "execution_count": null,
   "metadata": {
    "collapsed": true
   },
   "outputs": [],
   "source": []
  },
  {
   "cell_type": "code",
   "execution_count": 21,
   "metadata": {
    "collapsed": true
   },
   "outputs": [],
   "source": [
    "# country"
   ]
  },
  {
   "cell_type": "code",
   "execution_count": 22,
   "metadata": {
    "collapsed": true
   },
   "outputs": [],
   "source": [
    "country = data[['countrycode', 'country', 'currency_unit']].copy()"
   ]
  },
  {
   "cell_type": "code",
   "execution_count": 23,
   "metadata": {
    "collapsed": true
   },
   "outputs": [],
   "source": [
    "country = country.drop_duplicates()"
   ]
  },
  {
   "cell_type": "code",
   "execution_count": 25,
   "metadata": {
    "collapsed": false
   },
   "outputs": [],
   "source": [
    "country.columns = ['country', 'name', 'currency_unit']"
   ]
  },
  {
   "cell_type": "code",
   "execution_count": 26,
   "metadata": {
    "collapsed": true
   },
   "outputs": [],
   "source": [
    "country['country'] = country['country'].map(to_concept_id)"
   ]
  },
  {
   "cell_type": "code",
   "execution_count": 28,
   "metadata": {
    "collapsed": false
   },
   "outputs": [],
   "source": [
    "country.to_csv('../ddf--entities--country.csv', index=False)"
   ]
  },
  {
   "cell_type": "code",
   "execution_count": null,
   "metadata": {
    "collapsed": true
   },
   "outputs": [],
   "source": []
  },
  {
   "cell_type": "code",
   "execution_count": null,
   "metadata": {
    "collapsed": true
   },
   "outputs": [],
   "source": []
  },
  {
   "cell_type": "code",
   "execution_count": 29,
   "metadata": {
    "collapsed": true
   },
   "outputs": [],
   "source": [
    "# datapoints"
   ]
  },
  {
   "cell_type": "code",
   "execution_count": 30,
   "metadata": {
    "collapsed": true
   },
   "outputs": [],
   "source": [
    "dps = data.drop(['country', 'currency_unit'], axis=1).copy()"
   ]
  },
  {
   "cell_type": "code",
   "execution_count": 31,
   "metadata": {
    "collapsed": true
   },
   "outputs": [],
   "source": [
    "dps = dps.rename(columns={'countrycode': 'country'})\n",
    "dps['country'] = dps['country'].map(to_concept_id)"
   ]
  },
  {
   "cell_type": "code",
   "execution_count": 32,
   "metadata": {
    "collapsed": true
   },
   "outputs": [],
   "source": [
    "dps = dps.set_index(['country', 'year'])"
   ]
  },
  {
   "cell_type": "code",
   "execution_count": 33,
   "metadata": {
    "collapsed": true
   },
   "outputs": [],
   "source": [
    "for k, df in dps.items():\n",
    "    path = '../ddf--datapoints--{}--by--country--year.csv'.format(k)\n",
    "    \n",
    "    df_ = df.reset_index().dropna()\n",
    "    \n",
    "    df_.to_csv(path, index=False)"
   ]
  },
  {
   "cell_type": "code",
   "execution_count": null,
   "metadata": {
    "collapsed": true
   },
   "outputs": [],
   "source": []
  },
  {
   "cell_type": "code",
   "execution_count": 34,
   "metadata": {
    "collapsed": false
   },
   "outputs": [
    {
     "data": {
      "text/html": [
       "<div>\n",
       "<table border=\"1\" class=\"dataframe\">\n",
       "  <thead>\n",
       "    <tr style=\"text-align: right;\">\n",
       "      <th></th>\n",
       "      <th>key</th>\n",
       "      <th>value</th>\n",
       "      <th>file</th>\n",
       "    </tr>\n",
       "  </thead>\n",
       "  <tbody>\n",
       "    <tr>\n",
       "      <th>0</th>\n",
       "      <td>concept</td>\n",
       "      <td>name</td>\n",
       "      <td>ddf--concepts.csv</td>\n",
       "    </tr>\n",
       "    <tr>\n",
       "      <th>1</th>\n",
       "      <td>concept</td>\n",
       "      <td>concept_type</td>\n",
       "      <td>ddf--concepts.csv</td>\n",
       "    </tr>\n",
       "    <tr>\n",
       "      <th>0</th>\n",
       "      <td>country,year</td>\n",
       "      <td>avh</td>\n",
       "      <td>ddf--datapoints--avh--by--country--year.csv</td>\n",
       "    </tr>\n",
       "    <tr>\n",
       "      <th>0</th>\n",
       "      <td>country,year</td>\n",
       "      <td>ccon</td>\n",
       "      <td>ddf--datapoints--ccon--by--country--year.csv</td>\n",
       "    </tr>\n",
       "    <tr>\n",
       "      <th>0</th>\n",
       "      <td>country,year</td>\n",
       "      <td>cda</td>\n",
       "      <td>ddf--datapoints--cda--by--country--year.csv</td>\n",
       "    </tr>\n",
       "    <tr>\n",
       "      <th>0</th>\n",
       "      <td>country,year</td>\n",
       "      <td>cgdpe</td>\n",
       "      <td>ddf--datapoints--cgdpe--by--country--year.csv</td>\n",
       "    </tr>\n",
       "    <tr>\n",
       "      <th>0</th>\n",
       "      <td>country,year</td>\n",
       "      <td>cgdpo</td>\n",
       "      <td>ddf--datapoints--cgdpo--by--country--year.csv</td>\n",
       "    </tr>\n",
       "    <tr>\n",
       "      <th>0</th>\n",
       "      <td>country,year</td>\n",
       "      <td>ck</td>\n",
       "      <td>ddf--datapoints--ck--by--country--year.csv</td>\n",
       "    </tr>\n",
       "    <tr>\n",
       "      <th>0</th>\n",
       "      <td>country,year</td>\n",
       "      <td>cor_exp</td>\n",
       "      <td>ddf--datapoints--cor_exp--by--country--year.csv</td>\n",
       "    </tr>\n",
       "    <tr>\n",
       "      <th>0</th>\n",
       "      <td>country,year</td>\n",
       "      <td>csh_c</td>\n",
       "      <td>ddf--datapoints--csh_c--by--country--year.csv</td>\n",
       "    </tr>\n",
       "    <tr>\n",
       "      <th>0</th>\n",
       "      <td>country,year</td>\n",
       "      <td>csh_g</td>\n",
       "      <td>ddf--datapoints--csh_g--by--country--year.csv</td>\n",
       "    </tr>\n",
       "    <tr>\n",
       "      <th>0</th>\n",
       "      <td>country,year</td>\n",
       "      <td>csh_i</td>\n",
       "      <td>ddf--datapoints--csh_i--by--country--year.csv</td>\n",
       "    </tr>\n",
       "    <tr>\n",
       "      <th>0</th>\n",
       "      <td>country,year</td>\n",
       "      <td>csh_m</td>\n",
       "      <td>ddf--datapoints--csh_m--by--country--year.csv</td>\n",
       "    </tr>\n",
       "    <tr>\n",
       "      <th>0</th>\n",
       "      <td>country,year</td>\n",
       "      <td>csh_r</td>\n",
       "      <td>ddf--datapoints--csh_r--by--country--year.csv</td>\n",
       "    </tr>\n",
       "    <tr>\n",
       "      <th>0</th>\n",
       "      <td>country,year</td>\n",
       "      <td>csh_x</td>\n",
       "      <td>ddf--datapoints--csh_x--by--country--year.csv</td>\n",
       "    </tr>\n",
       "    <tr>\n",
       "      <th>0</th>\n",
       "      <td>country,year</td>\n",
       "      <td>ctfp</td>\n",
       "      <td>ddf--datapoints--ctfp--by--country--year.csv</td>\n",
       "    </tr>\n",
       "    <tr>\n",
       "      <th>0</th>\n",
       "      <td>country,year</td>\n",
       "      <td>cwtfp</td>\n",
       "      <td>ddf--datapoints--cwtfp--by--country--year.csv</td>\n",
       "    </tr>\n",
       "    <tr>\n",
       "      <th>0</th>\n",
       "      <td>country,year</td>\n",
       "      <td>delta</td>\n",
       "      <td>ddf--datapoints--delta--by--country--year.csv</td>\n",
       "    </tr>\n",
       "    <tr>\n",
       "      <th>0</th>\n",
       "      <td>country,year</td>\n",
       "      <td>emp</td>\n",
       "      <td>ddf--datapoints--emp--by--country--year.csv</td>\n",
       "    </tr>\n",
       "    <tr>\n",
       "      <th>0</th>\n",
       "      <td>country,year</td>\n",
       "      <td>hc</td>\n",
       "      <td>ddf--datapoints--hc--by--country--year.csv</td>\n",
       "    </tr>\n",
       "    <tr>\n",
       "      <th>0</th>\n",
       "      <td>country,year</td>\n",
       "      <td>i_cig</td>\n",
       "      <td>ddf--datapoints--i_cig--by--country--year.csv</td>\n",
       "    </tr>\n",
       "    <tr>\n",
       "      <th>0</th>\n",
       "      <td>country,year</td>\n",
       "      <td>i_outlier</td>\n",
       "      <td>ddf--datapoints--i_outlier--by--country--year.csv</td>\n",
       "    </tr>\n",
       "    <tr>\n",
       "      <th>0</th>\n",
       "      <td>country,year</td>\n",
       "      <td>i_xm</td>\n",
       "      <td>ddf--datapoints--i_xm--by--country--year.csv</td>\n",
       "    </tr>\n",
       "    <tr>\n",
       "      <th>0</th>\n",
       "      <td>country,year</td>\n",
       "      <td>i_xr</td>\n",
       "      <td>ddf--datapoints--i_xr--by--country--year.csv</td>\n",
       "    </tr>\n",
       "    <tr>\n",
       "      <th>0</th>\n",
       "      <td>country,year</td>\n",
       "      <td>labsh</td>\n",
       "      <td>ddf--datapoints--labsh--by--country--year.csv</td>\n",
       "    </tr>\n",
       "    <tr>\n",
       "      <th>0</th>\n",
       "      <td>country,year</td>\n",
       "      <td>pl_c</td>\n",
       "      <td>ddf--datapoints--pl_c--by--country--year.csv</td>\n",
       "    </tr>\n",
       "    <tr>\n",
       "      <th>0</th>\n",
       "      <td>country,year</td>\n",
       "      <td>pl_con</td>\n",
       "      <td>ddf--datapoints--pl_con--by--country--year.csv</td>\n",
       "    </tr>\n",
       "    <tr>\n",
       "      <th>0</th>\n",
       "      <td>country,year</td>\n",
       "      <td>pl_da</td>\n",
       "      <td>ddf--datapoints--pl_da--by--country--year.csv</td>\n",
       "    </tr>\n",
       "    <tr>\n",
       "      <th>0</th>\n",
       "      <td>country,year</td>\n",
       "      <td>pl_g</td>\n",
       "      <td>ddf--datapoints--pl_g--by--country--year.csv</td>\n",
       "    </tr>\n",
       "    <tr>\n",
       "      <th>0</th>\n",
       "      <td>country,year</td>\n",
       "      <td>pl_gdpo</td>\n",
       "      <td>ddf--datapoints--pl_gdpo--by--country--year.csv</td>\n",
       "    </tr>\n",
       "    <tr>\n",
       "      <th>0</th>\n",
       "      <td>country,year</td>\n",
       "      <td>pl_i</td>\n",
       "      <td>ddf--datapoints--pl_i--by--country--year.csv</td>\n",
       "    </tr>\n",
       "    <tr>\n",
       "      <th>0</th>\n",
       "      <td>country,year</td>\n",
       "      <td>pl_k</td>\n",
       "      <td>ddf--datapoints--pl_k--by--country--year.csv</td>\n",
       "    </tr>\n",
       "    <tr>\n",
       "      <th>0</th>\n",
       "      <td>country,year</td>\n",
       "      <td>pl_m</td>\n",
       "      <td>ddf--datapoints--pl_m--by--country--year.csv</td>\n",
       "    </tr>\n",
       "    <tr>\n",
       "      <th>0</th>\n",
       "      <td>country,year</td>\n",
       "      <td>pl_x</td>\n",
       "      <td>ddf--datapoints--pl_x--by--country--year.csv</td>\n",
       "    </tr>\n",
       "    <tr>\n",
       "      <th>0</th>\n",
       "      <td>country,year</td>\n",
       "      <td>pop</td>\n",
       "      <td>ddf--datapoints--pop--by--country--year.csv</td>\n",
       "    </tr>\n",
       "    <tr>\n",
       "      <th>0</th>\n",
       "      <td>country,year</td>\n",
       "      <td>rconna</td>\n",
       "      <td>ddf--datapoints--rconna--by--country--year.csv</td>\n",
       "    </tr>\n",
       "    <tr>\n",
       "      <th>0</th>\n",
       "      <td>country,year</td>\n",
       "      <td>rdana</td>\n",
       "      <td>ddf--datapoints--rdana--by--country--year.csv</td>\n",
       "    </tr>\n",
       "    <tr>\n",
       "      <th>0</th>\n",
       "      <td>country,year</td>\n",
       "      <td>rgdpe</td>\n",
       "      <td>ddf--datapoints--rgdpe--by--country--year.csv</td>\n",
       "    </tr>\n",
       "    <tr>\n",
       "      <th>0</th>\n",
       "      <td>country,year</td>\n",
       "      <td>rgdpna</td>\n",
       "      <td>ddf--datapoints--rgdpna--by--country--year.csv</td>\n",
       "    </tr>\n",
       "    <tr>\n",
       "      <th>0</th>\n",
       "      <td>country,year</td>\n",
       "      <td>rgdpo</td>\n",
       "      <td>ddf--datapoints--rgdpo--by--country--year.csv</td>\n",
       "    </tr>\n",
       "    <tr>\n",
       "      <th>0</th>\n",
       "      <td>country,year</td>\n",
       "      <td>rkna</td>\n",
       "      <td>ddf--datapoints--rkna--by--country--year.csv</td>\n",
       "    </tr>\n",
       "    <tr>\n",
       "      <th>0</th>\n",
       "      <td>country,year</td>\n",
       "      <td>rtfpna</td>\n",
       "      <td>ddf--datapoints--rtfpna--by--country--year.csv</td>\n",
       "    </tr>\n",
       "    <tr>\n",
       "      <th>0</th>\n",
       "      <td>country,year</td>\n",
       "      <td>rwtfpna</td>\n",
       "      <td>ddf--datapoints--rwtfpna--by--country--year.csv</td>\n",
       "    </tr>\n",
       "    <tr>\n",
       "      <th>0</th>\n",
       "      <td>country,year</td>\n",
       "      <td>statcap</td>\n",
       "      <td>ddf--datapoints--statcap--by--country--year.csv</td>\n",
       "    </tr>\n",
       "    <tr>\n",
       "      <th>0</th>\n",
       "      <td>country,year</td>\n",
       "      <td>xr</td>\n",
       "      <td>ddf--datapoints--xr--by--country--year.csv</td>\n",
       "    </tr>\n",
       "    <tr>\n",
       "      <th>0</th>\n",
       "      <td>country</td>\n",
       "      <td>name</td>\n",
       "      <td>ddf--entities--country.csv</td>\n",
       "    </tr>\n",
       "    <tr>\n",
       "      <th>1</th>\n",
       "      <td>country</td>\n",
       "      <td>currency_unit</td>\n",
       "      <td>ddf--entities--country.csv</td>\n",
       "    </tr>\n",
       "  </tbody>\n",
       "</table>\n",
       "</div>"
      ],
      "text/plain": [
       "            key          value  \\\n",
       "0       concept           name   \n",
       "1       concept   concept_type   \n",
       "0  country,year            avh   \n",
       "0  country,year           ccon   \n",
       "0  country,year            cda   \n",
       "0  country,year          cgdpe   \n",
       "0  country,year          cgdpo   \n",
       "0  country,year             ck   \n",
       "0  country,year        cor_exp   \n",
       "0  country,year          csh_c   \n",
       "0  country,year          csh_g   \n",
       "0  country,year          csh_i   \n",
       "0  country,year          csh_m   \n",
       "0  country,year          csh_r   \n",
       "0  country,year          csh_x   \n",
       "0  country,year           ctfp   \n",
       "0  country,year          cwtfp   \n",
       "0  country,year          delta   \n",
       "0  country,year            emp   \n",
       "0  country,year             hc   \n",
       "0  country,year          i_cig   \n",
       "0  country,year      i_outlier   \n",
       "0  country,year           i_xm   \n",
       "0  country,year           i_xr   \n",
       "0  country,year          labsh   \n",
       "0  country,year           pl_c   \n",
       "0  country,year         pl_con   \n",
       "0  country,year          pl_da   \n",
       "0  country,year           pl_g   \n",
       "0  country,year        pl_gdpo   \n",
       "0  country,year           pl_i   \n",
       "0  country,year           pl_k   \n",
       "0  country,year           pl_m   \n",
       "0  country,year           pl_x   \n",
       "0  country,year            pop   \n",
       "0  country,year         rconna   \n",
       "0  country,year          rdana   \n",
       "0  country,year          rgdpe   \n",
       "0  country,year         rgdpna   \n",
       "0  country,year          rgdpo   \n",
       "0  country,year           rkna   \n",
       "0  country,year         rtfpna   \n",
       "0  country,year        rwtfpna   \n",
       "0  country,year        statcap   \n",
       "0  country,year             xr   \n",
       "0       country           name   \n",
       "1       country  currency_unit   \n",
       "\n",
       "                                                file  \n",
       "0                                  ddf--concepts.csv  \n",
       "1                                  ddf--concepts.csv  \n",
       "0        ddf--datapoints--avh--by--country--year.csv  \n",
       "0       ddf--datapoints--ccon--by--country--year.csv  \n",
       "0        ddf--datapoints--cda--by--country--year.csv  \n",
       "0      ddf--datapoints--cgdpe--by--country--year.csv  \n",
       "0      ddf--datapoints--cgdpo--by--country--year.csv  \n",
       "0         ddf--datapoints--ck--by--country--year.csv  \n",
       "0    ddf--datapoints--cor_exp--by--country--year.csv  \n",
       "0      ddf--datapoints--csh_c--by--country--year.csv  \n",
       "0      ddf--datapoints--csh_g--by--country--year.csv  \n",
       "0      ddf--datapoints--csh_i--by--country--year.csv  \n",
       "0      ddf--datapoints--csh_m--by--country--year.csv  \n",
       "0      ddf--datapoints--csh_r--by--country--year.csv  \n",
       "0      ddf--datapoints--csh_x--by--country--year.csv  \n",
       "0       ddf--datapoints--ctfp--by--country--year.csv  \n",
       "0      ddf--datapoints--cwtfp--by--country--year.csv  \n",
       "0      ddf--datapoints--delta--by--country--year.csv  \n",
       "0        ddf--datapoints--emp--by--country--year.csv  \n",
       "0         ddf--datapoints--hc--by--country--year.csv  \n",
       "0      ddf--datapoints--i_cig--by--country--year.csv  \n",
       "0  ddf--datapoints--i_outlier--by--country--year.csv  \n",
       "0       ddf--datapoints--i_xm--by--country--year.csv  \n",
       "0       ddf--datapoints--i_xr--by--country--year.csv  \n",
       "0      ddf--datapoints--labsh--by--country--year.csv  \n",
       "0       ddf--datapoints--pl_c--by--country--year.csv  \n",
       "0     ddf--datapoints--pl_con--by--country--year.csv  \n",
       "0      ddf--datapoints--pl_da--by--country--year.csv  \n",
       "0       ddf--datapoints--pl_g--by--country--year.csv  \n",
       "0    ddf--datapoints--pl_gdpo--by--country--year.csv  \n",
       "0       ddf--datapoints--pl_i--by--country--year.csv  \n",
       "0       ddf--datapoints--pl_k--by--country--year.csv  \n",
       "0       ddf--datapoints--pl_m--by--country--year.csv  \n",
       "0       ddf--datapoints--pl_x--by--country--year.csv  \n",
       "0        ddf--datapoints--pop--by--country--year.csv  \n",
       "0     ddf--datapoints--rconna--by--country--year.csv  \n",
       "0      ddf--datapoints--rdana--by--country--year.csv  \n",
       "0      ddf--datapoints--rgdpe--by--country--year.csv  \n",
       "0     ddf--datapoints--rgdpna--by--country--year.csv  \n",
       "0      ddf--datapoints--rgdpo--by--country--year.csv  \n",
       "0       ddf--datapoints--rkna--by--country--year.csv  \n",
       "0     ddf--datapoints--rtfpna--by--country--year.csv  \n",
       "0    ddf--datapoints--rwtfpna--by--country--year.csv  \n",
       "0    ddf--datapoints--statcap--by--country--year.csv  \n",
       "0         ddf--datapoints--xr--by--country--year.csv  \n",
       "0                         ddf--entities--country.csv  \n",
       "1                         ddf--entities--country.csv  "
      ]
     },
     "execution_count": 34,
     "metadata": {},
     "output_type": "execute_result"
    }
   ],
   "source": [
    "create_index_file('../')"
   ]
  },
  {
   "cell_type": "code",
   "execution_count": null,
   "metadata": {
    "collapsed": true
   },
   "outputs": [],
   "source": []
  }
 ],
 "metadata": {
  "kernelspec": {
   "display_name": "Python 3",
   "language": "python",
   "name": "python3"
  },
  "language_info": {
   "codemirror_mode": {
    "name": "ipython",
    "version": 3
   },
   "file_extension": ".py",
   "mimetype": "text/x-python",
   "name": "python",
   "nbconvert_exporter": "python",
   "pygments_lexer": "ipython3",
   "version": "3.5.1"
  }
 },
 "nbformat": 4,
 "nbformat_minor": 0
}
